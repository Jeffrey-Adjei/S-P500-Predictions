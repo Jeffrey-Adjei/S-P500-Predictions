{
 "cells": [
  {
   "cell_type": "markdown",
   "id": "6097c6ea-d2c9-440d-a4e3-085ff52161fb",
   "metadata": {},
   "source": [
    "DOWNLOADING OUR S&P 500 PRICE DATA"
   ]
  },
  {
   "cell_type": "code",
   "execution_count": 35,
   "id": "395ae0ea-76ce-4845-8088-987cdd5e9eaa",
   "metadata": {},
   "outputs": [],
   "source": [
    "import yfinance as yf\n",
    "import matplotlib.pyplot as plt"
   ]
  },
  {
   "cell_type": "code",
   "execution_count": 36,
   "id": "2462d95c-53fa-472a-b05e-9838294b08c2",
   "metadata": {},
   "outputs": [],
   "source": [
    "sp500 = yf.Ticker(\"^GSPC\")"
   ]
  },
  {
   "cell_type": "code",
   "execution_count": 37,
   "id": "fdc54acc-9b2b-43bd-9e61-39ff186a18e0",
   "metadata": {},
   "outputs": [],
   "source": [
    "sp500 = sp500.history(period=\"max\")"
   ]
  },
  {
   "cell_type": "code",
   "execution_count": 38,
   "id": "5d0e0e21-7f10-4ada-bedd-7bb246c7c7d3",
   "metadata": {},
   "outputs": [
    {
     "data": {
      "text/html": [
       "<div>\n",
       "<style scoped>\n",
       "    .dataframe tbody tr th:only-of-type {\n",
       "        vertical-align: middle;\n",
       "    }\n",
       "\n",
       "    .dataframe tbody tr th {\n",
       "        vertical-align: top;\n",
       "    }\n",
       "\n",
       "    .dataframe thead th {\n",
       "        text-align: right;\n",
       "    }\n",
       "</style>\n",
       "<table border=\"1\" class=\"dataframe\">\n",
       "  <thead>\n",
       "    <tr style=\"text-align: right;\">\n",
       "      <th></th>\n",
       "      <th>Open</th>\n",
       "      <th>High</th>\n",
       "      <th>Low</th>\n",
       "      <th>Close</th>\n",
       "      <th>Volume</th>\n",
       "      <th>Dividends</th>\n",
       "      <th>Stock Splits</th>\n",
       "    </tr>\n",
       "    <tr>\n",
       "      <th>Date</th>\n",
       "      <th></th>\n",
       "      <th></th>\n",
       "      <th></th>\n",
       "      <th></th>\n",
       "      <th></th>\n",
       "      <th></th>\n",
       "      <th></th>\n",
       "    </tr>\n",
       "  </thead>\n",
       "  <tbody>\n",
       "    <tr>\n",
       "      <th>1927-12-30 00:00:00-05:00</th>\n",
       "      <td>17.660000</td>\n",
       "      <td>17.660000</td>\n",
       "      <td>17.660000</td>\n",
       "      <td>17.660000</td>\n",
       "      <td>0</td>\n",
       "      <td>0.0</td>\n",
       "      <td>0.0</td>\n",
       "    </tr>\n",
       "    <tr>\n",
       "      <th>1928-01-03 00:00:00-05:00</th>\n",
       "      <td>17.760000</td>\n",
       "      <td>17.760000</td>\n",
       "      <td>17.760000</td>\n",
       "      <td>17.760000</td>\n",
       "      <td>0</td>\n",
       "      <td>0.0</td>\n",
       "      <td>0.0</td>\n",
       "    </tr>\n",
       "    <tr>\n",
       "      <th>1928-01-04 00:00:00-05:00</th>\n",
       "      <td>17.719999</td>\n",
       "      <td>17.719999</td>\n",
       "      <td>17.719999</td>\n",
       "      <td>17.719999</td>\n",
       "      <td>0</td>\n",
       "      <td>0.0</td>\n",
       "      <td>0.0</td>\n",
       "    </tr>\n",
       "    <tr>\n",
       "      <th>1928-01-05 00:00:00-05:00</th>\n",
       "      <td>17.549999</td>\n",
       "      <td>17.549999</td>\n",
       "      <td>17.549999</td>\n",
       "      <td>17.549999</td>\n",
       "      <td>0</td>\n",
       "      <td>0.0</td>\n",
       "      <td>0.0</td>\n",
       "    </tr>\n",
       "    <tr>\n",
       "      <th>1928-01-06 00:00:00-05:00</th>\n",
       "      <td>17.660000</td>\n",
       "      <td>17.660000</td>\n",
       "      <td>17.660000</td>\n",
       "      <td>17.660000</td>\n",
       "      <td>0</td>\n",
       "      <td>0.0</td>\n",
       "      <td>0.0</td>\n",
       "    </tr>\n",
       "    <tr>\n",
       "      <th>...</th>\n",
       "      <td>...</td>\n",
       "      <td>...</td>\n",
       "      <td>...</td>\n",
       "      <td>...</td>\n",
       "      <td>...</td>\n",
       "      <td>...</td>\n",
       "      <td>...</td>\n",
       "    </tr>\n",
       "    <tr>\n",
       "      <th>2025-04-07 00:00:00-04:00</th>\n",
       "      <td>4953.790039</td>\n",
       "      <td>5246.569824</td>\n",
       "      <td>4835.040039</td>\n",
       "      <td>5062.250000</td>\n",
       "      <td>8691980000</td>\n",
       "      <td>0.0</td>\n",
       "      <td>0.0</td>\n",
       "    </tr>\n",
       "    <tr>\n",
       "      <th>2025-04-08 00:00:00-04:00</th>\n",
       "      <td>5193.569824</td>\n",
       "      <td>5267.470215</td>\n",
       "      <td>4910.419922</td>\n",
       "      <td>4982.770020</td>\n",
       "      <td>7408140000</td>\n",
       "      <td>0.0</td>\n",
       "      <td>0.0</td>\n",
       "    </tr>\n",
       "    <tr>\n",
       "      <th>2025-04-09 00:00:00-04:00</th>\n",
       "      <td>4965.279785</td>\n",
       "      <td>5481.339844</td>\n",
       "      <td>4948.430176</td>\n",
       "      <td>5456.899902</td>\n",
       "      <td>9489600000</td>\n",
       "      <td>0.0</td>\n",
       "      <td>0.0</td>\n",
       "    </tr>\n",
       "    <tr>\n",
       "      <th>2025-04-10 00:00:00-04:00</th>\n",
       "      <td>5353.149902</td>\n",
       "      <td>5353.149902</td>\n",
       "      <td>5115.270020</td>\n",
       "      <td>5268.049805</td>\n",
       "      <td>6677140000</td>\n",
       "      <td>0.0</td>\n",
       "      <td>0.0</td>\n",
       "    </tr>\n",
       "    <tr>\n",
       "      <th>2025-04-11 00:00:00-04:00</th>\n",
       "      <td>5255.560059</td>\n",
       "      <td>5381.459961</td>\n",
       "      <td>5220.770020</td>\n",
       "      <td>5363.359863</td>\n",
       "      <td>5602550000</td>\n",
       "      <td>0.0</td>\n",
       "      <td>0.0</td>\n",
       "    </tr>\n",
       "  </tbody>\n",
       "</table>\n",
       "<p>24436 rows × 7 columns</p>\n",
       "</div>"
      ],
      "text/plain": [
       "                                  Open         High          Low        Close  \\\n",
       "Date                                                                            \n",
       "1927-12-30 00:00:00-05:00    17.660000    17.660000    17.660000    17.660000   \n",
       "1928-01-03 00:00:00-05:00    17.760000    17.760000    17.760000    17.760000   \n",
       "1928-01-04 00:00:00-05:00    17.719999    17.719999    17.719999    17.719999   \n",
       "1928-01-05 00:00:00-05:00    17.549999    17.549999    17.549999    17.549999   \n",
       "1928-01-06 00:00:00-05:00    17.660000    17.660000    17.660000    17.660000   \n",
       "...                                ...          ...          ...          ...   \n",
       "2025-04-07 00:00:00-04:00  4953.790039  5246.569824  4835.040039  5062.250000   \n",
       "2025-04-08 00:00:00-04:00  5193.569824  5267.470215  4910.419922  4982.770020   \n",
       "2025-04-09 00:00:00-04:00  4965.279785  5481.339844  4948.430176  5456.899902   \n",
       "2025-04-10 00:00:00-04:00  5353.149902  5353.149902  5115.270020  5268.049805   \n",
       "2025-04-11 00:00:00-04:00  5255.560059  5381.459961  5220.770020  5363.359863   \n",
       "\n",
       "                               Volume  Dividends  Stock Splits  \n",
       "Date                                                            \n",
       "1927-12-30 00:00:00-05:00           0        0.0           0.0  \n",
       "1928-01-03 00:00:00-05:00           0        0.0           0.0  \n",
       "1928-01-04 00:00:00-05:00           0        0.0           0.0  \n",
       "1928-01-05 00:00:00-05:00           0        0.0           0.0  \n",
       "1928-01-06 00:00:00-05:00           0        0.0           0.0  \n",
       "...                               ...        ...           ...  \n",
       "2025-04-07 00:00:00-04:00  8691980000        0.0           0.0  \n",
       "2025-04-08 00:00:00-04:00  7408140000        0.0           0.0  \n",
       "2025-04-09 00:00:00-04:00  9489600000        0.0           0.0  \n",
       "2025-04-10 00:00:00-04:00  6677140000        0.0           0.0  \n",
       "2025-04-11 00:00:00-04:00  5602550000        0.0           0.0  \n",
       "\n",
       "[24436 rows x 7 columns]"
      ]
     },
     "execution_count": 38,
     "metadata": {},
     "output_type": "execute_result"
    }
   ],
   "source": [
    "sp500"
   ]
  },
  {
   "cell_type": "code",
   "execution_count": 39,
   "id": "dab9f411-bc74-4628-9383-bd3b9fefed67",
   "metadata": {},
   "outputs": [
    {
     "data": {
      "text/plain": [
       "DatetimeIndex(['1927-12-30 00:00:00-05:00', '1928-01-03 00:00:00-05:00',\n",
       "               '1928-01-04 00:00:00-05:00', '1928-01-05 00:00:00-05:00',\n",
       "               '1928-01-06 00:00:00-05:00', '1928-01-09 00:00:00-05:00',\n",
       "               '1928-01-10 00:00:00-05:00', '1928-01-11 00:00:00-05:00',\n",
       "               '1928-01-12 00:00:00-05:00', '1928-01-13 00:00:00-05:00',\n",
       "               ...\n",
       "               '2025-03-31 00:00:00-04:00', '2025-04-01 00:00:00-04:00',\n",
       "               '2025-04-02 00:00:00-04:00', '2025-04-03 00:00:00-04:00',\n",
       "               '2025-04-04 00:00:00-04:00', '2025-04-07 00:00:00-04:00',\n",
       "               '2025-04-08 00:00:00-04:00', '2025-04-09 00:00:00-04:00',\n",
       "               '2025-04-10 00:00:00-04:00', '2025-04-11 00:00:00-04:00'],\n",
       "              dtype='datetime64[ns, America/New_York]', name='Date', length=24436, freq=None)"
      ]
     },
     "execution_count": 39,
     "metadata": {},
     "output_type": "execute_result"
    }
   ],
   "source": [
    "sp500.index"
   ]
  },
  {
   "cell_type": "markdown",
   "id": "cd5b8def-580c-461c-b60c-927729395c9a",
   "metadata": {},
   "source": [
    "CLEANING AND VISUALISING OUR STOCK MARKET DATA"
   ]
  },
  {
   "cell_type": "code",
   "execution_count": 40,
   "id": "158e945a-2421-43d7-8a01-68e9fd7ced4d",
   "metadata": {},
   "outputs": [
    {
     "data": {
      "image/png": "[encoded data removed]",
      "text/plain": [
       "<Figure size 640x480 with 1 Axes>"
      ]
     },
     "metadata": {},
     "output_type": "display_data"
    }
   ],
   "source": [
    "sp500.plot.line(y=\"Close\", use_index=True)\n",
    "plt.title(\"The S&P500 Historical Data\")\n",
    "plt.xlabel(\"Date\")\n",
    "plt.ylabel(\"S&P500 Close Price\")\n",
    "plt.grid(True)\n",
    "plt.show()"
   ]
  },
  {
   "cell_type": "code",
   "execution_count": 41,
   "id": "f787eaa2-c30e-4ab3-a1fe-986613a20259",
   "metadata": {},
   "outputs": [],
   "source": [
    "del sp500[\"Dividends\"]\n",
    "del sp500[\"Stock Splits\"]"
   ]
  },
  {
   "cell_type": "code",
   "execution_count": null,
   "id": "203c7b55-0b62-4373-911f-2ca1b5b9a4c3",
   "metadata": {},
   "outputs": [],
   "source": []
  }
 ],
 "metadata": {
  "kernelspec": {
   "display_name": "Python 3 (ipykernel)",
   "language": "python",
   "name": "python3"
  },
  "language_info": {
   "codemirror_mode": {
    "name": "ipython",
    "version": 3
   },
   "file_extension": ".py",
   "mimetype": "text/x-python",
   "name": "python",
   "nbconvert_exporter": "python",
   "pygments_lexer": "ipython3",
   "version": "3.12.2"
  }
 },
 "nbformat": 4,
 "nbformat_minor": 5
}
